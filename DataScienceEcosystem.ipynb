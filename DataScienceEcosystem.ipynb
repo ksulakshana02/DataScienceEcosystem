{
 "cells": [
  {
   "cell_type": "markdown",
   "id": "8c6cde55-a036-410b-9cfc-bc400823f243",
   "metadata": {},
   "source": [
    "# Data Science Tools and Ecosystem"
   ]
  },
  {
   "cell_type": "markdown",
   "id": "53f2184a-0d95-4231-b446-23e7eb87ac5b",
   "metadata": {},
   "source": [
    "In this notebook, Data Science Tools and Ecosystem are summarized."
   ]
  },
  {
   "cell_type": "markdown",
   "id": "b4cf6b2f-3257-4de2-a5ca-8ec5330f00fd",
   "metadata": {},
   "source": [
    "**Objectives:**\n",
    "* List popular languages for Data Science\n",
    "* Introduce Data Science libraries\n",
    "* Discuss Data Science Tools\n",
    "* Introduce basic arithmetic expressions in python"
   ]
  },
  {
   "cell_type": "markdown",
   "id": "6603b632-4fff-47b5-b37e-581eedc2aff2",
   "metadata": {},
   "source": [
    "Some of the populer languages that Data Scientists use are:\n",
    "1. Python\n",
    "2. R\n",
    "3. SQL"
   ]
  },
  {
   "cell_type": "markdown",
   "id": "c1727f1c-09f7-42f7-a6fc-d59a6f2a0bed",
   "metadata": {},
   "source": [
    "Some of the commonly used libraries used by Data Scientists include:\n",
    "1. NumPy\n",
    "2. Pandas\n",
    "3. Matplotlib\n",
    "4. Scikit-learn"
   ]
  },
  {
   "cell_type": "markdown",
   "id": "aaf0f8cc-4f5e-48a2-be55-4289ec8c9481",
   "metadata": {},
   "source": [
    "| Data Science Tools |\n",
    "| ------------------ |\n",
    "| Jupyter Notebook   |\n",
    "| RStudio            |\n",
    "| Spyder             |"
   ]
  },
  {
   "cell_type": "markdown",
   "id": "e5aafacf-88f5-4e69-8a2d-adad5ae2284b",
   "metadata": {},
   "source": [
    "### Below are a few examples of evaluating arithmetic expressions in Python"
   ]
  },
  {
   "cell_type": "markdown",
   "id": "34b6526b-6104-4c31-b2dd-7fa18b35b455",
   "metadata": {},
   "source": [
    "This a simple arithmetic expression to mutiply then add integers"
   ]
  },
  {
   "cell_type": "code",
   "execution_count": 1,
   "id": "242b9e94-209c-4683-b112-f643e185382b",
   "metadata": {
    "tags": []
   },
   "outputs": [
    {
     "data": {
      "text/plain": [
       "17"
      ]
     },
     "execution_count": 1,
     "metadata": {},
     "output_type": "execute_result"
    }
   ],
   "source": [
    "(3*4)+5"
   ]
  },
  {
   "cell_type": "markdown",
   "id": "0baeec19-dd75-468d-ab13-2742e2d9b98e",
   "metadata": {},
   "source": [
    "This will convert 200 minutes to hours by diving by 60"
   ]
  },
  {
   "cell_type": "code",
   "execution_count": 3,
   "id": "b2c3499f-2da1-47a9-ae47-ee5de8bdf3ef",
   "metadata": {
    "tags": []
   },
   "outputs": [
    {
     "data": {
      "text/plain": [
       "3.3333333333333335"
      ]
     },
     "execution_count": 3,
     "metadata": {},
     "output_type": "execute_result"
    }
   ],
   "source": [
    "200 / 60"
   ]
  },
  {
   "cell_type": "code",
   "execution_count": null,
   "id": "786d1fc1-0f5e-4973-9191-998dbd9f8a90",
   "metadata": {},
   "outputs": [],
   "source": []
  },
  {
   "cell_type": "markdown",
   "id": "c2a57fbe-5cf2-4f2b-9c46-f10870de7363",
   "metadata": {},
   "source": [
    "## Author\n",
    "Kaveesha Sulakshana"
   ]
  },
  {
   "cell_type": "code",
   "execution_count": null,
   "id": "97662cd1-5372-4933-be96-ce3f32e5cf85",
   "metadata": {},
   "outputs": [],
   "source": []
  }
 ],
 "metadata": {
  "kernelspec": {
   "display_name": "Python",
   "language": "python",
   "name": "conda-env-python-py"
  },
  "language_info": {
   "codemirror_mode": {
    "name": "ipython",
    "version": 3
   },
   "file_extension": ".py",
   "mimetype": "text/x-python",
   "name": "python",
   "nbconvert_exporter": "python",
   "pygments_lexer": "ipython3",
   "version": "3.7.12"
  }
 },
 "nbformat": 4,
 "nbformat_minor": 5
}
